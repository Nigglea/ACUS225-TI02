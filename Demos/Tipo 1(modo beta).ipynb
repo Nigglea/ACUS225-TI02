{
 "cells": [
  {
   "cell_type": "code",
   "execution_count": 1,
   "metadata": {
    "ExecuteTime": {
     "end_time": "2020-12-14T14:07:56.509181Z",
     "start_time": "2020-12-14T14:07:55.219469Z"
    }
   },
   "outputs": [],
   "source": [
    "import matplotlib.pyplot as plt\n",
    "from mpl_toolkits.mplot3d.axes3d import Axes3D\n",
    "import numpy as np\n",
    "import pandas as pd\n",
    "from loudspeaker_box import main, open_box, utils\n",
    "import IPython.display as disp\n",
    "import seaborn as sns\n",
    "import warnings\n",
    "warnings.filterwarnings(\"ignore\")\n",
    "sns.set()\n",
    "%matplotlib notebook\n",
    "xticks = [2,4,8,16,31.5, 63, 125, 250, 500, 1000,2000,4000 ,8000]"
   ]
  },
  {
   "cell_type": "code",
   "execution_count": 2,
   "metadata": {
    "ExecuteTime": {
     "end_time": "2020-12-14T14:07:56.525900Z",
     "start_time": "2020-12-14T14:07:56.512777Z"
    }
   },
   "outputs": [],
   "source": [
    "fs  = 47.2\n",
    "Vas = 25.4\n",
    "Re  = 3.37\n",
    "Qms = 3.6\n",
    "Qts = 0.27"
   ]
  },
  {
   "cell_type": "code",
   "execution_count": 3,
   "metadata": {
    "ExecuteTime": {
     "end_time": "2020-12-14T14:07:56.542046Z",
     "start_time": "2020-12-14T14:07:56.529938Z"
    }
   },
   "outputs": [],
   "source": [
    "Vb1 = 22.5 #Litros\n",
    "Vb2 = 9.0 #Litros\n",
    "L1 = 200.0\n",
    "L2 = 200.0\n",
    "D1 = 68.0\n",
    "D2 = 68.0"
   ]
  },
  {
   "cell_type": "code",
   "execution_count": 4,
   "metadata": {
    "ExecuteTime": {
     "end_time": "2020-12-14T14:07:56.563292Z",
     "start_time": "2020-12-14T14:07:56.545843Z"
    }
   },
   "outputs": [
    {
     "name": "stdout",
     "output_type": "stream",
     "text": [
      "a1 = 1.13 ; a2 = 2.82\n"
     ]
    }
   ],
   "source": [
    "a1 = Vas/Vb1\n",
    "a2 = Vas/Vb2\n",
    "s1 = open_box.S_p(D1/2)\n",
    "s2 = open_box.S_p(D2/2)\n",
    "Map1 = open_box.M_aT(s1,L1)\n",
    "Map2 = open_box.M_aT(s2,L2)\n",
    "Cab1 = open_box.C_ab(Vb1)\n",
    "Cab2 = open_box.C_ab(Vb2)\n",
    "print('a1 =',np.around(a1,2),'; a2 =',np.around(a2,2))"
   ]
  },
  {
   "cell_type": "code",
   "execution_count": 5,
   "metadata": {
    "ExecuteTime": {
     "end_time": "2020-12-14T14:07:56.580183Z",
     "start_time": "2020-12-14T14:07:56.571919Z"
    }
   },
   "outputs": [],
   "source": [
    "def T2(Map,Cab):\n",
    "    return Map*Cab"
   ]
  },
  {
   "cell_type": "code",
   "execution_count": 6,
   "metadata": {
    "ExecuteTime": {
     "end_time": "2020-12-14T14:07:56.608020Z",
     "start_time": "2020-12-14T14:07:56.587114Z"
    }
   },
   "outputs": [
    {
     "name": "stdout",
     "output_type": "stream",
     "text": [
      "f1 = 43.8 ; f2 = 69.3\n"
     ]
    }
   ],
   "source": [
    "Tb1 = T2(Map1,Cab1)\n",
    "Tb2 = T2(Map2,Cab2)\n",
    "wb1 = 1/Tb1\n",
    "wb2 = 1/Tb2\n",
    "f1 = np.sqrt(wb1)/(2*np.pi)\n",
    "f2 = np.sqrt(wb2)/(2*np.pi)\n",
    "print('f1 =',np.around(f1,1),'; f2 =',np.around(f2,1))"
   ]
  },
  {
   "cell_type": "code",
   "execution_count": 7,
   "metadata": {
    "ExecuteTime": {
     "end_time": "2020-12-14T14:07:56.631759Z",
     "start_time": "2020-12-14T14:07:56.620060Z"
    }
   },
   "outputs": [],
   "source": [
    "def QES(Qms,Qts):\n",
    "    num = Qms*Qts\n",
    "    den = (Qms-Qts)\n",
    "    return num/den"
   ]
  },
  {
   "cell_type": "code",
   "execution_count": 8,
   "metadata": {
    "ExecuteTime": {
     "end_time": "2020-12-14T14:07:56.649344Z",
     "start_time": "2020-12-14T14:07:56.637886Z"
    }
   },
   "outputs": [],
   "source": [
    "Qes = QES(Qms,Qts)"
   ]
  },
  {
   "cell_type": "code",
   "execution_count": 9,
   "metadata": {
    "ExecuteTime": {
     "end_time": "2020-12-14T14:07:56.721409Z",
     "start_time": "2020-12-14T14:07:56.657782Z"
    }
   },
   "outputs": [],
   "source": [
    "class Ze:\n",
    "    def __init__(self,Re,Qms,Qes,fs,f1,f2,a1,a2):\n",
    "        self.w   = 2*np.pi*np.linspace(1,22050,44100)\n",
    "        self.Re  = Re\n",
    "        self.Qms = Qms\n",
    "        self.Qes = Qes\n",
    "        self.Ts  = 1/(2.*np.pi*fs)\n",
    "        self.Tb1 = 1/(2.*np.pi*f1)\n",
    "        self.Tb2 = 1/(2.*np.pi*f2)\n",
    "        self.a1  = a1\n",
    "        self.a2  = a2\n",
    "    \n",
    "    def t1(self):\n",
    "        self.T1 = self.Ts/self.Qms\n",
    "    \n",
    "    def t2(self):\n",
    "        t21 = (self.Ts**2)\n",
    "        t22 = ((1+self.a1)*(self.Tb1**2))\n",
    "        t23 = ((1+self.a2)*(self.Tb2**2))\n",
    "        self.T2 = t21+t22+t23\n",
    "        \n",
    "    def t3(self):\n",
    "        fac     = self.Ts/self.Qms\n",
    "        self.T3 = fac*((self.Tb2**2)+(self.Tb1**2))\n",
    "        \n",
    "    def t4(self):\n",
    "        t41 = (self.Ts**2)*(self.Tb1**2)\n",
    "        t42 = (self.Ts**2)*(self.Tb2**2)\n",
    "        t43 = (self.Tb1**2)*(self.Tb2**2)*(1+self.a1+self.a2)\n",
    "        self.T4 = t41+t42+t43\n",
    "        \n",
    "    def t5(self):\n",
    "        fac     = self.Ts/self.Qms\n",
    "        self.T5 = fac*(self.Tb2**2)*(self.Tb1**2)\n",
    "        \n",
    "    def t6(self):\n",
    "        self.T6 = (self.Tb1**2)*(self.Tb2**2)*(self.Ts**2)\n",
    "        \n",
    "    def ZE(self):\n",
    "        self.t1()\n",
    "        self.t2()\n",
    "        self.t3()\n",
    "        self.t4()\n",
    "        self.t5()\n",
    "        self.t6()\n",
    "        num = self.Qms*self.T5*(self.w**5)*1.j - self.Qms*self.T3*(self.w**3)*1.j + self.Qms*self.T1*self.w*1.j\n",
    "        den = -self.T6*(self.w**6) + self.T5*(self.w**5)*1.j + self.T4*(self.w**4) - self.T3*(self.w**3)*1.j - self.T2*(self.w**2) + self.T1*self.w*1.j + 1 \n",
    "        self.Z = self.Re*(1+(num/den))"
   ]
  },
  {
   "cell_type": "code",
   "execution_count": 10,
   "metadata": {
    "ExecuteTime": {
     "end_time": "2020-12-14T14:07:56.761265Z",
     "start_time": "2020-12-14T14:07:56.723652Z"
    }
   },
   "outputs": [],
   "source": [
    "type1 = Ze(4.7,Qms,Qes,fs,f1,f2,a1,a2)\n",
    "type1.ZE()\n",
    "ZE = type1.Z\n",
    "f = type1.w/(2*np.pi)"
   ]
  },
  {
   "cell_type": "code",
   "execution_count": 11,
   "metadata": {
    "ExecuteTime": {
     "end_time": "2020-12-14T14:07:57.832684Z",
     "start_time": "2020-12-14T14:07:56.764525Z"
    }
   },
   "outputs": [
    {
     "data": {
      "image/png": "[encoded data removed]",
      "text/plain": [
       "<Figure size 504x360 with 1 Axes>"
      ]
     },
     "metadata": {
      "needs_background": "light"
     },
     "output_type": "display_data"
    }
   ],
   "source": [
    "fig, ax = plt.subplots(figsize = (7,5),tight_layout=True)\n",
    "ax.plot(f,np.abs(ZE))\n",
    "ax.set_xscale('log')\n",
    "ax.set_xlim([1e1,1e3]);"
   ]
  },
  {
   "cell_type": "code",
   "execution_count": null,
   "metadata": {},
   "outputs": [],
   "source": []
  }
 ],
 "metadata": {
  "kernelspec": {
   "display_name": "ACUS225",
   "language": "python",
   "name": "acus225"
  },
  "language_info": {
   "codemirror_mode": {
    "name": "ipython",
    "version": 3
   },
   "file_extension": ".py",
   "mimetype": "text/x-python",
   "name": "python",
   "nbconvert_exporter": "python",
   "pygments_lexer": "ipython3",
   "version": "3.7.9"
  },
  "toc": {
   "base_numbering": 1,
   "nav_menu": {},
   "number_sections": true,
   "sideBar": true,
   "skip_h1_title": false,
   "title_cell": "Table of Contents",
   "title_sidebar": "Contents",
   "toc_cell": false,
   "toc_position": {},
   "toc_section_display": true,
   "toc_window_display": false
  }
 },
 "nbformat": 4,
 "nbformat_minor": 4
}
